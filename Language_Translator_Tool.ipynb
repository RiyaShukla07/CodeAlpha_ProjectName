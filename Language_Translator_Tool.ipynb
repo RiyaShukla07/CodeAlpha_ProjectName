{
 "cells": [
  {
   "cell_type": "code",
   "execution_count": 1,
   "id": "c6f00515-8d5f-43d9-9847-8a24d3c4a400",
   "metadata": {},
   "outputs": [
    {
     "name": "stdout",
     "output_type": "stream",
     "text": [
      "Requirement already satisfied: googletrans==4.0.0-rc1 in c:\\users\\riya\\anaconda3\\lib\\site-packages (4.0.0rc1)\n",
      "Requirement already satisfied: pyttsx3 in c:\\users\\riya\\anaconda3\\lib\\site-packages (2.98)\n",
      "Requirement already satisfied: httpx==0.13.3 in c:\\users\\riya\\anaconda3\\lib\\site-packages (from googletrans==4.0.0-rc1) (0.13.3)\n",
      "Requirement already satisfied: certifi in c:\\users\\riya\\anaconda3\\lib\\site-packages (from httpx==0.13.3->googletrans==4.0.0-rc1) (2024.8.30)\n",
      "Requirement already satisfied: hstspreload in c:\\users\\riya\\anaconda3\\lib\\site-packages (from httpx==0.13.3->googletrans==4.0.0-rc1) (2025.1.1)\n",
      "Requirement already satisfied: sniffio in c:\\users\\riya\\anaconda3\\lib\\site-packages (from httpx==0.13.3->googletrans==4.0.0-rc1) (1.3.0)\n",
      "Requirement already satisfied: chardet==3.* in c:\\users\\riya\\anaconda3\\lib\\site-packages (from httpx==0.13.3->googletrans==4.0.0-rc1) (3.0.4)\n",
      "Requirement already satisfied: idna==2.* in c:\\users\\riya\\anaconda3\\lib\\site-packages (from httpx==0.13.3->googletrans==4.0.0-rc1) (2.10)\n",
      "Requirement already satisfied: rfc3986<2,>=1.3 in c:\\users\\riya\\anaconda3\\lib\\site-packages (from httpx==0.13.3->googletrans==4.0.0-rc1) (1.5.0)\n",
      "Requirement already satisfied: httpcore==0.9.* in c:\\users\\riya\\anaconda3\\lib\\site-packages (from httpx==0.13.3->googletrans==4.0.0-rc1) (0.9.1)\n",
      "Requirement already satisfied: h11<0.10,>=0.8 in c:\\users\\riya\\anaconda3\\lib\\site-packages (from httpcore==0.9.*->httpx==0.13.3->googletrans==4.0.0-rc1) (0.9.0)\n",
      "Requirement already satisfied: h2==3.* in c:\\users\\riya\\anaconda3\\lib\\site-packages (from httpcore==0.9.*->httpx==0.13.3->googletrans==4.0.0-rc1) (3.2.0)\n",
      "Requirement already satisfied: hyperframe<6,>=5.2.0 in c:\\users\\riya\\anaconda3\\lib\\site-packages (from h2==3.*->httpcore==0.9.*->httpx==0.13.3->googletrans==4.0.0-rc1) (5.2.0)\n",
      "Requirement already satisfied: hpack<4,>=3.0 in c:\\users\\riya\\anaconda3\\lib\\site-packages (from h2==3.*->httpcore==0.9.*->httpx==0.13.3->googletrans==4.0.0-rc1) (3.0.0)\n",
      "Requirement already satisfied: comtypes in c:\\users\\riya\\anaconda3\\lib\\site-packages (from pyttsx3) (1.4.11)\n",
      "Requirement already satisfied: pypiwin32 in c:\\users\\riya\\anaconda3\\lib\\site-packages (from pyttsx3) (223)\n",
      "Requirement already satisfied: pywin32 in c:\\users\\riya\\anaconda3\\lib\\site-packages (from pyttsx3) (305.1)\n",
      "Note: you may need to restart the kernel to use updated packages.\n"
     ]
    }
   ],
   "source": [
    "pip install googletrans==4.0.0-rc1 pyttsx3\n"
   ]
  },
  {
   "cell_type": "code",
   "execution_count": 2,
   "id": "90dba5fc-7477-42a9-b3bc-7714be5667bb",
   "metadata": {},
   "outputs": [],
   "source": [
    "import tkinter as tk\n",
    "from tkinter import ttk, messagebox\n",
    "import pyttsx3\n",
    "import pyperclip\n",
    "from googletrans import Translator, LANGUAGES\n"
   ]
  },
  {
   "cell_type": "code",
   "execution_count": 3,
   "id": "6c080f0e-85ad-489c-817f-2168df913271",
   "metadata": {},
   "outputs": [
    {
     "name": "stdout",
     "output_type": "stream",
     "text": [
      "Requirement already satisfied: deep-translator in c:\\users\\riya\\anaconda3\\lib\\site-packages (1.11.4)\n",
      "Requirement already satisfied: beautifulsoup4<5.0.0,>=4.9.1 in c:\\users\\riya\\anaconda3\\lib\\site-packages (from deep-translator) (4.12.3)\n",
      "Requirement already satisfied: requests<3.0.0,>=2.23.0 in c:\\users\\riya\\anaconda3\\lib\\site-packages (from deep-translator) (2.32.3)\n",
      "Requirement already satisfied: soupsieve>1.2 in c:\\users\\riya\\anaconda3\\lib\\site-packages (from beautifulsoup4<5.0.0,>=4.9.1->deep-translator) (2.5)\n",
      "Requirement already satisfied: charset-normalizer<4,>=2 in c:\\users\\riya\\anaconda3\\lib\\site-packages (from requests<3.0.0,>=2.23.0->deep-translator) (3.3.2)\n",
      "Requirement already satisfied: idna<4,>=2.5 in c:\\users\\riya\\anaconda3\\lib\\site-packages (from requests<3.0.0,>=2.23.0->deep-translator) (2.10)\n",
      "Requirement already satisfied: urllib3<3,>=1.21.1 in c:\\users\\riya\\anaconda3\\lib\\site-packages (from requests<3.0.0,>=2.23.0->deep-translator) (2.2.3)\n",
      "Requirement already satisfied: certifi>=2017.4.17 in c:\\users\\riya\\anaconda3\\lib\\site-packages (from requests<3.0.0,>=2.23.0->deep-translator) (2024.8.30)\n"
     ]
    }
   ],
   "source": [
    "!pip install deep-translator\n",
    "\n"
   ]
  },
  {
   "cell_type": "code",
   "execution_count": 4,
   "id": "9fc4253d-9cb3-4263-b688-61d9ad235efc",
   "metadata": {},
   "outputs": [
    {
     "name": "stdout",
     "output_type": "stream",
     "text": [
      "आपका पाठ यहां है\n"
     ]
    }
   ],
   "source": [
    "from deep_translator import GoogleTranslator\n",
    "\n",
    "translated = GoogleTranslator(source='english', target='hindi').translate(\"Your text here\")\n",
    "print(translated)\n"
   ]
  },
  {
   "cell_type": "code",
   "execution_count": 5,
   "id": "2161eeca-e154-4cc9-8302-fb2bd185bebf",
   "metadata": {},
   "outputs": [
    {
     "name": "stdout",
     "output_type": "stream",
     "text": [
      "Requirement already satisfied: pyperclip in c:\\users\\riya\\anaconda3\\lib\\site-packages (1.9.0)\n"
     ]
    }
   ],
   "source": [
    "import sys\n",
    "!{sys.executable} -m pip install pyperclip\n"
   ]
  },
  {
   "cell_type": "code",
   "execution_count": 6,
   "id": "843f51e9-e541-492b-af4e-76bd4613a7d7",
   "metadata": {},
   "outputs": [],
   "source": [
    "import tkinter as tk\n",
    "from tkinter import ttk, messagebox\n",
    "import pyttsx3\n",
    "import pyperclip\n",
    "from googletrans import Translator, LANGUAGES\n"
   ]
  },
  {
   "cell_type": "code",
   "execution_count": 7,
   "id": "a79ac914-419c-4bd7-a36d-799c3d58dbbe",
   "metadata": {},
   "outputs": [],
   "source": [
    "translator = Translator()\n",
    "engine = pyttsx3.init()\n",
    "\n"
   ]
  },
  {
   "cell_type": "code",
   "execution_count": 8,
   "id": "433e5251-3324-4ef7-aa45-1f82518a1f9d",
   "metadata": {},
   "outputs": [],
   "source": [
    "lang_dict = LANGUAGES\n",
    "lang_list = list(lang_dict.values())\n",
    "\n",
    "def get_lang_code(lang_name):\n",
    "    for code, name in lang_dict.items():\n",
    "        if name.lower() == lang_name.lower():\n",
    "            return code\n",
    "    return None"
   ]
  },
  {
   "cell_type": "code",
   "execution_count": 9,
   "id": "6a2c0cc7-d2b3-4b65-9a79-9924be44c1f5",
   "metadata": {},
   "outputs": [],
   "source": [
    "def translate_text():\n",
    "    input_text = input_box.get(\"1.0\", tk.END).strip()\n",
    "    src_lang = source_lang.get()\n",
    "    tgt_lang = target_lang.get()\n",
    "\n",
    "    if not input_text:\n",
    "        messagebox.showwarning(\"Input Required\", \"Please enter some text to translate.\")\n",
    "        return\n",
    "\n",
    "    src_code = get_lang_code(src_lang)\n",
    "    tgt_code = get_lang_code(tgt_lang)\n",
    "\n",
    "    try:\n",
    "        translated = translator.translate(input_text, src=src_code, dest=tgt_code)\n",
    "        output_box.delete(\"1.0\", tk.END)\n",
    "        output_box.insert(tk.END, translated.text)\n",
    "    except Exception as e:\n",
    "        messagebox.showerror(\"Translation Error\", str(e))"
   ]
  },
  {
   "cell_type": "code",
   "execution_count": 10,
   "id": "6c5b39ba-9442-43e1-a1d5-628185a76998",
   "metadata": {},
   "outputs": [],
   "source": [
    "def copy_text():\n",
    "    text = output_box.get(\"1.0\", tk.END).strip()\n",
    "    if text:\n",
    "        pyperclip.copy(text)\n",
    "        messagebox.showinfo(\"Copied\", \"Text copied to clipboard!\")"
   ]
  },
  {
   "cell_type": "code",
   "execution_count": 11,
   "id": "6cbdb81e-8257-4a9b-a6d6-8ed3e48f3605",
   "metadata": {},
   "outputs": [],
   "source": [
    "def speak_text():\n",
    "    text = output_box.get(\"1.0\", tk.END).strip()\n",
    "    if text:\n",
    "        engine.say(text)\n",
    "        engine.runAndWait()\n"
   ]
  },
  {
   "cell_type": "code",
   "execution_count": 12,
   "id": "a268f931-e42a-4e2c-8de9-8a47242716f5",
   "metadata": {},
   "outputs": [],
   "source": [
    "# Step 7: GUI setup\n",
    "root = tk.Tk()\n",
    "root.title(\"Language Translation Tool\")\n",
    "root.geometry(\"720x520\")\n",
    "root.config(bg=\"#f0f0f0\")\n",
    "\n",
    "tk.Label(root, text=\"Enter Text:\", font=(\"Arial\", 12, \"bold\"), bg=\"#f0f0f0\").pack(pady=5)\n",
    "input_box = tk.Text(root, height=7, width=80, wrap=tk.WORD)\n",
    "input_box.pack(pady=5)\n",
    "\n",
    "frame = tk.Frame(root, bg=\"#f0f0f0\")\n",
    "frame.pack(pady=10)\n",
    "\n",
    "tk.Label(frame, text=\"From:\", font=(\"Arial\", 10), bg=\"#f0f0f0\").grid(row=0, column=0, padx=10)\n",
    "source_lang = ttk.Combobox(frame, values=lang_list, width=25)\n",
    "source_lang.set(\"english\")\n",
    "source_lang.grid(row=0, column=1)\n",
    "\n",
    "tk.Label(frame, text=\"To:\", font=(\"Arial\", 10), bg=\"#f0f0f0\").grid(row=0, column=2, padx=10)\n",
    "target_lang = ttk.Combobox(frame, values=lang_list, width=25)\n",
    "target_lang.set(\"hindi\")\n",
    "target_lang.grid(row=0, column=3)\n",
    "\n",
    "tk.Button(root, text=\"Translate\", command=translate_text, bg=\"#4CAF50\", fg=\"white\", font=(\"Arial\", 12), width=15).pack(pady=10)\n",
    "\n",
    "tk.Label(root, text=\"Translated Text:\", font=(\"Arial\", 12, \"bold\"), bg=\"#f0f0f0\").pack(pady=5)\n",
    "output_box = tk.Text(root, height=7, width=80, wrap=tk.WORD)\n",
    "output_box.pack(pady=5)\n",
    "\n",
    "button_frame = tk.Frame(root, bg=\"#f0f0f0\")\n",
    "button_frame.pack(pady=10)\n",
    "\n",
    "tk.Button(button_frame, text=\"Copy\", command=copy_text, width=10).grid(row=0, column=0, padx=10)\n",
    "tk.Button(button_frame, text=\"Speak\", command=speak_text, width=10).grid(row=0, column=1, padx=10)\n",
    "\n",
    "root.mainloop()"
   ]
  },
  {
   "cell_type": "code",
   "execution_count": null,
   "id": "003c3fd2-2726-4028-90e8-5ce97e59f900",
   "metadata": {},
   "outputs": [],
   "source": []
  },
  {
   "cell_type": "code",
   "execution_count": null,
   "id": "f6d3305a-98e3-4597-9686-b173a7d8bf0e",
   "metadata": {},
   "outputs": [],
   "source": []
  }
 ],
 "metadata": {
  "kernelspec": {
   "display_name": "Python 3 (ipykernel)",
   "language": "python",
   "name": "python3"
  },
  "language_info": {
   "codemirror_mode": {
    "name": "ipython",
    "version": 3
   },
   "file_extension": ".py",
   "mimetype": "text/x-python",
   "name": "python",
   "nbconvert_exporter": "python",
   "pygments_lexer": "ipython3",
   "version": "3.12.7"
  }
 },
 "nbformat": 4,
 "nbformat_minor": 5
}
